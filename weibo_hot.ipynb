{
 "cells": [
  {
   "cell_type": "code",
   "execution_count": 10,
   "metadata": {},
   "outputs": [],
   "source": [
    "import requests\n",
    "\n",
    "url = \"https://weibo.com/a/hot/realtime\"\n",
    "cookie = \"SINAGLOBAL=9656728435575.941.1536198049274; Ugrow-G0=cf25a00b541269674d0feadd72dce35f; YF-V5-G0=95d69db6bf5dfdb71f82a9b7f3eb261a; _s_tentry=-; Apache=9994857171975.906.1561127804821; ULV=1561127804869:52:1:1:9994857171975.906.1561127804821:1558872071603; login_sid_t=a60bfa77072d055e6848a91e3ee2151c; cross_origin_proto=SSL; _ga=GA1.2.789657180.1563203792; __gads=ID=b1f3776877126bb9:T=1563203825:S=ALNI_MbLMppvh94USY08SOobyE5e-NMo9g; SSOLoginState=1565961780; wvr=6; SUBP=0033WrSXqPxfM725Ws9jqgMF55529P9D9WFhkozZZLvOvfvNWwJ4m-um5JpX5KMhUgL.Fo24S0-0Sh2pShz2dJLoIp7LxKnL1K5LBKMLxKBLB.eL1-qLxK-LB.-LBoUg; ALF=1598625368; SCF=AnWneK9lnXQPdN5DNhPHVTni6LizKk4YHf5FZ5KgLSgoAAKN_NW8ZC9VaSsYCYHloAKRxsP_FBDJQHod590eui0.; SUB=_2A25wY5KKDeRhGedH7FcS9C_Nzz6IHXVTGINCrDV8PUNbmtBeLUGkkW9NUJuVLhUEdMOKg5lIezAQipX_au_kuMnc; SUHB=02MekFqI7NBH08; YF-Page-G0=02467fca7cf40a590c28b8459d93fb95|1567089377|1567089377; UOR=,,login.sina.com.cn; webim_unReadCount=%7B%22time%22%3A1567089526948%2C%22dm_pub_total%22%3A6%2C%22chat_group_client%22%3A0%2C%22allcountNum%22%3A49%2C%22msgbox%22%3A0%7D; WBStorage=f54cf4e4362237da|undefined\"\n",
    "user_agent = \"Mozilla/5.0 (Windows NT 10.0; Win64; x64) AppleWebKit/537.36 (KHTML, like Gecko) Chrome/75.0.3770.142 Safari/537.36\"\n",
    "\n",
    "headers = {\"User-Agent\":user_agent,\"Cookie\":cookie}\n",
    "\n",
    "req = requests.get(url,headers=headers)\n",
    "html_text = req.text\n",
    "\n",
    "with open('hotweibo.html','w',encoding=\"utf-8\") as file:\n",
    "    file.write(html_text)"
   ]
  },
  {
   "cell_type": "code",
   "execution_count": null,
   "metadata": {},
   "outputs": [],
   "source": []
  }
 ],
 "metadata": {
  "kernelspec": {
   "display_name": "Python 3",
   "language": "python",
   "name": "python3"
  },
  "language_info": {
   "codemirror_mode": {
    "name": "ipython",
    "version": 3
   },
   "file_extension": ".py",
   "mimetype": "text/x-python",
   "name": "python",
   "nbconvert_exporter": "python",
   "pygments_lexer": "ipython3",
   "version": "3.6.3"
  }
 },
 "nbformat": 4,
 "nbformat_minor": 2
}
