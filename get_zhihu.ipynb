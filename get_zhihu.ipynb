{
 "cells": [
  {
   "cell_type": "code",
   "execution_count": 123,
   "metadata": {
    "scrolled": true
   },
   "outputs": [
    {
     "name": "stdout",
     "output_type": "stream",
     "text": [
      "正在抓取网页内容，请稍后...\n",
      "正在抓取网页内容，请稍后...\n",
      "正在抓取网页内容，请稍后...\n",
      "正在抓取网页内容，请稍后...\n",
      "正在抓取网页内容，请稍后...\n",
      "已将抓取的内容成功保存进csv文件\n"
     ]
    }
   ],
   "source": [
    "from time import sleep\n",
    "import requests\n",
    "import json\n",
    "import csv\n",
    "\n",
    "\n",
    "url = \"https://www.zhihu.com/api/v3/feed/topstory/recommend?\"\n",
    "cookie = '_zap=eafa586c-a264-48d5-9398-5355bf0bc8d8; d_c0=\"AKBhjL8JlQ6PTs6L_U2fhqJ7mCo1-rf3XZU=|1543299944\"; q_c1=363d7b93a0114e83a32fd4e00c521b53|1543299946000|1543299946000; _xsrf=aaNEF2gGYmTDMJjMFxNA8XVlRRSCRRg6; __gads=ID=3d4ae307f8c71633:T=1557757713:S=ALNI_MaiOC8uMznn8TdUSoKK1ouxG0MicQ; capsion_ticket=\"2|1:0|10:1567501290|14:capsion_ticket|44:MzYyZjMxMWYyNjY0NDczNjkwMTMyN2VkZGMwNDgyZDU=|c0e4747518ebf52e79fdba4ab4d7c942bd394df4cb3102297e3475e099fe0112\"; z_c0=\"2|1:0|10:1567501325|4:z_c0|92:Mi4xYmljVEVnQUFBQUFBb0dHTXZ3bVZEaVlBQUFCZ0FsVk5EWHBiWGdDWkI0RXAwTUNwVEtEZG92eklLVk5OMzZkSTZn|2b514c76ba82d1de59d18ac31e3d490fad35335bdd46f58a6c3c7cb1d95e51b5\"; tst=r; tgw_l7_route=116a747939468d99065d12a386ab1c5f'\n",
    "user_agent = \"Mozilla/5.0 (Windows NT 10.0; Win64; x64) AppleWebKit/537.36 (KHTML, like Gecko) Chrome/75.0.3770.142 Safari/537.36\"\n",
    "headers = {\"User-Agent\":user_agent,\"cookie\":cookie}\n",
    "params = {\"session_token\":\"1d93ff214fcf01de93f52025aad41267\",\n",
    "          \"desktop\":\"true\",\n",
    "          \"page_number\":2,\n",
    "          \"limit\":2,\n",
    "          \"action\":\"down\",\n",
    "          \"after_id\":5}\n",
    "\n",
    "rows = []\n",
    "for x in range(5):\n",
    "    try:\n",
    "        req = requests.get(url,headers=headers,params=params)\n",
    "    except:\n",
    "        print('error')\n",
    "        \n",
    "    datas = json.loads(req.text)['data']\n",
    "    for i in range(len(datas)):\n",
    "        type = datas[i]['target']['type']\n",
    "        if type ==  'answer':\n",
    "            id = datas[i]['id']\n",
    "            name = datas[i]['target']['author']['name']\n",
    "            title = datas[i]['target']['question']['title']\n",
    "            messages = (id,name,title)\n",
    "            rows.append(messages)\n",
    "        elif type == 'article':\n",
    "            id = datas[i]['id']\n",
    "            name = datas[i]['target']['author']['name']\n",
    "            title = datas[i]['target']['title']\n",
    "            messages = (id,name,title)\n",
    "            rows.append(messages)\n",
    "    print('正在抓取网页内容，请稍后...')\n",
    "    sleep(1)\n",
    "        \n",
    "with open('zhihu.csv','w',encoding='utf-8-sig',newline='') as csvfile:\n",
    "    write = csv.writer(csvfile)\n",
    "    headers = ['id','名字','标题']\n",
    "    write.writerow(headers)\n",
    "    for row in rows:\n",
    "        write.writerow(row)\n",
    "    print('已将抓取的内容成功保存进csv文件')\n",
    "        "
   ]
  },
  {
   "cell_type": "code",
   "execution_count": null,
   "metadata": {},
   "outputs": [],
   "source": []
  }
 ],
 "metadata": {
  "kernelspec": {
   "display_name": "Python 3",
   "language": "python",
   "name": "python3"
  },
  "language_info": {
   "codemirror_mode": {
    "name": "ipython",
    "version": 3
   },
   "file_extension": ".py",
   "mimetype": "text/x-python",
   "name": "python",
   "nbconvert_exporter": "python",
   "pygments_lexer": "ipython3",
   "version": "3.6.3"
  }
 },
 "nbformat": 4,
 "nbformat_minor": 2
}
