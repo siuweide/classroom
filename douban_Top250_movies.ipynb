{
 "cells": [
  {
   "cell_type": "code",
   "execution_count": 97,
   "metadata": {},
   "outputs": [],
   "source": [
    "import requests\n",
    "import json\n",
    "import csv\n",
    "\n",
    "\n",
    "#下载“肖申克的救赎”的电影海报到本地\n",
    "def get_image_url():\n",
    "    url = \"https://api.douban.com/v2/movie/1292052?apikey=0df993c66c0c636e29ecbb5344252a4a\"\n",
    "    req = requests.get(url)\n",
    "    s = json.loads(req.text)\n",
    "    image_url = s['image']\n",
    "    return image_url\n",
    "\n",
    "def save_image(image_url):\n",
    "    html = requests.get(image_url)\n",
    "    with open('image3.jpg','wb') as file:\n",
    "        save_image = file.write(html.content)\n",
    "\n",
    "#---------------------------------------------------------------\n",
    "\n",
    "#获取豆瓣Top250部电影的信息\n",
    "def get_top250_movies():\n",
    "    movies_total = []\n",
    "    for x in range(0,250,20):\n",
    "        url = \"https://api.douban.com/v2/movie/top250?start=\"+str(x)+\"&apikey=0df993c66c0c636e29ecbb5344252a4a\"\n",
    "        req = requests.get(url)\n",
    "        data = json.loads(req.text)\n",
    "        movies_info = data['subjects']\n",
    "    #     print(movies_info)\n",
    "        for i in range(len(movies_info)):\n",
    "            movies_rows = []\n",
    "            movies_average = movies_info[i]['rating']['average']\n",
    "            movies_title = movies_info[i]['title']\n",
    "            movies_avatars = movies_info[i]['casts']\n",
    "            movies_rows.append(movies_title)\n",
    "            movies_rows.append(movies_average)\n",
    "            name_list = []\n",
    "            for avatars in movies_avatars:\n",
    "                name_list.append(avatars['name'])\n",
    "    #         print(name_list)\n",
    "            movies_rows.append(','.join(name_list))        \n",
    "            movies_total.append(movies_rows)\n",
    "    return movies_total\n",
    "\n",
    "#将获取到豆瓣电影的信息批量写入到csv文件里面\n",
    "def write_movies_to_csv(movies_rows):\n",
    "    with open('test_data.csv','w',encoding='utf-8-sig',newline='') as csvfile:\n",
    "        write = csv.writer(csvfile)\n",
    "        write.writerow(['电影名称','评分','主演'])\n",
    "        for movie in movies_rows:\n",
    "            write.writerow(movie)\n",
    "        \n",
    "movies_rows = get_top250_movies()\n",
    "write_movies_to_csv(movies_rows)"
   ]
  },
  {
   "cell_type": "code",
   "execution_count": null,
   "metadata": {},
   "outputs": [],
   "source": []
  },
  {
   "cell_type": "code",
   "execution_count": null,
   "metadata": {},
   "outputs": [],
   "source": []
  }
 ],
 "metadata": {
  "kernelspec": {
   "display_name": "Python 3",
   "language": "python",
   "name": "python3"
  },
  "language_info": {
   "codemirror_mode": {
    "name": "ipython",
    "version": 3
   },
   "file_extension": ".py",
   "mimetype": "text/x-python",
   "name": "python",
   "nbconvert_exporter": "python",
   "pygments_lexer": "ipython3",
   "version": "3.6.3"
  }
 },
 "nbformat": 4,
 "nbformat_minor": 2
}
