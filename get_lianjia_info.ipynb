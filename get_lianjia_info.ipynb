{
 "cells": [
  {
   "cell_type": "code",
   "execution_count": null,
   "metadata": {
    "scrolled": true
   },
   "outputs": [],
   "source": [
    "import requests\n",
    "from bs4 import BeautifulSoup\n",
    "import csv\n",
    "\n",
    "url = \"https://sh.lianjia.com/zufang/\"\n",
    "cookie = \"digv_extends=%7B%22utmTrackId%22%3A%22%22%7D; lianjia_uuid=84e6f372-0868-400a-90e6-e09ef6028889; UM_distinctid=16cd252ea95d6-014171caf4bd2b-c343162-144000-16cd252ea9634a; _ga=GA1.2.2008178067.1566896745; lianjia_ssid=a7f83a32-1a68-4ee4-bc51-309c88466473; srcid=eyJ0Ijoie1wiZGF0YVwiOlwiM2ZmZGE5OGEyMjFkZWQ5NGQwNjQ0Y2M2MTZmOGM0YTZmNTMyYzZjMDA2ZmEyZTcxMjg1MDgzYTU0MDZmYWJjYmYxZmMwYzhkNjc5MmNiMTAzZGE4YTlmMTgwNTJjNDBhMDNkZGYxYTZiNzFjYmFmOGQxNWNjNGIyMmI5NTc4MjYzNWMyZWM5N2Y5NDE4ZDhiYTdjZmIzMmEzZTA3MWQwMTAzMzdhMWM2NzhlY2YwZWM3ZGIzNjhmNjRkN2QwMDc2ZjgxYTQyM2Q5NTEwNWI3NDJkYzk0NjM5NTE4ZDY3ZTI3NDY3NTRiMzU3MGQzYmZjNjYxODhmMjI2MTE5ZjNkNmI0NGNjOTE3YzlmZTY1ODcxYWQzM2QzZjFiNzdmNzcyMGE2ZjdkOGI2YWU1ODNjOTI2MWU0ODJlZTI0MDI2MGJkOGQ0ZWM2MzZiYjUyNjdkOWYzMTQ2ODVjZjg4MzE0YlwiLFwia2V5X2lkXCI6XCIxXCIsXCJzaWduXCI6XCIzYjZhNjI2Y1wifSIsInIiOiJodHRwczovL3NoLmxpYW5qaWEuY29tL3p1ZmFuZy8iLCJvcyI6IndlYiIsInYiOiIwLjEifQ==\"\n",
    "user_agent=\"Mozilla/5.0 (Windows NT 10.0; Win64; x64) AppleWebKit/537.36 (KHTML, like Gecko) Chrome/75.0.3770.142 Safari/537.36\"\n",
    "headers={\"user-agent\":user_agent,\"cookie\":cookie}\n",
    "html = requests.get(url,headers=headers).text\n",
    "# print(html.text)\n",
    "soup = BeautifulSoup(html, 'lxml')\n",
    "all = soup.find_all('div',class_='content__list--item--main')\n",
    "print(all)\n",
    "hourse_info = []\n",
    "for i in all:\n",
    "    text = i.get_text().split()\n",
    "    print(text)\n",
    "    diqu = text[0] + ' ' + text[1] + ' ' + text[2]\n",
    "    href = i.find('a').get('href')\n",
    "    dizhi = text[3]\n",
    "    mianji = text[5]\n",
    "    chaoxiang = text[6].split('/')[1]\n",
    "    huxing = text[8]\n",
    "    louceng = text[10]\n",
    "    qiyuxinxi = text[14]\n",
    "    hourse = (diqu,href,pingfang,chaoxiang,huxing,louceng,qiyuxinxi)\n",
    "    hourse_info.append(hourse)\n",
    "    \n",
    "print(hourse_info)\n",
    "with open('get_lianjia_info.csv','w',encoding='utf-8-sig',newline='') as csvfile:\n",
    "    write = csv.writer(csvfile)\n",
    "    for house in hourse_info:\n",
    "        write.writerow(house)\n",
    "    \n",
    "    \n",
    "    \n",
    "    \n",
    "    "
   ]
  },
  {
   "cell_type": "code",
   "execution_count": null,
   "metadata": {},
   "outputs": [],
   "source": []
  }
 ],
 "metadata": {
  "kernelspec": {
   "display_name": "Python 3",
   "language": "python",
   "name": "python3"
  },
  "language_info": {
   "codemirror_mode": {
    "name": "ipython",
    "version": 3
   },
   "file_extension": ".py",
   "mimetype": "text/x-python",
   "name": "python",
   "nbconvert_exporter": "python",
   "pygments_lexer": "ipython3",
   "version": "3.6.3"
  }
 },
 "nbformat": 4,
 "nbformat_minor": 2
}
