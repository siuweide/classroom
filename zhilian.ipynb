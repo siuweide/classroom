{
 "cells": [
  {
   "cell_type": "code",
   "execution_count": 96,
   "metadata": {
    "scrolled": true
   },
   "outputs": [
    {
     "name": "stdout",
     "output_type": "stream",
     "text": [
      "已抓取第1页的内容！\n",
      "已抓取第2页的内容！\n",
      "已抓取第3页的内容！\n",
      "已抓取完毕，且已成功写入到csv文件当中！\n"
     ]
    }
   ],
   "source": [
    "import requests\n",
    "import csv\n",
    "import json\n",
    "from bs4 import BeautifulSoup\n",
    "\n",
    "num = 0\n",
    "rows = []\n",
    "for page in range(90,360,90):\n",
    "    num +=1\n",
    "    url2 = \"https://fe-api.zhaopin.com/c/i/sou?pageSize=\"+str(page)+\"&cityId=765&workExperience=-1&education=-1&companyType=-1&employmentType=-1&jobWelfareTag=-1&kw=python&kt=3&_v=0.01565421&x-zp-page-request-id=7f8113880a324da2b17b85d3acab7404-1568295241976-435980&x-zp-client-id=6c5165be-fd43-4217-9378-f257d5e1d04e\"\n",
    "    user_agent=\"Mozilla/5.0 (Windows NT 10.0; Win64; x64) AppleWebKit/537.36 (KHTML, like Gecko) Chrome/75.0.3770.142 Safari/537.36\"\n",
    "    headers={\"user-agent\":user_agent}\n",
    "    try:\n",
    "        req = requests.get(url2,headers=headers).text\n",
    "    except:\n",
    "        print(\"获取地址失败\")\n",
    "    json_data = json.loads(req)\n",
    "    companys = json_data[\"data\"][\"results\"]\n",
    "    for x in range(len(companys)):\n",
    "        company_name = companys[x][\"company\"][\"name\"]\n",
    "        city = companys[x][\"city\"][\"display\"]\n",
    "        money = companys[x][\"salary\"]\n",
    "        try:\n",
    "            size = companys[x][\"company\"][\"size\"][\"name\"]\n",
    "        except:\n",
    "            size = None\n",
    "        working = companys[x][\"workingExp\"][\"name\"]\n",
    "        edulevel = companys[x][\"eduLevel\"][\"name\"]\n",
    "        emptype = companys[x][\"emplType\"]\n",
    "        jobtype = companys[x][\"jobType\"][\"items\"][0][\"name\"]\n",
    "        xq_url = companys[x][\"positionURL\"]\n",
    "        company_row = (company_name,city,money,size,working,edulevel,emptype,jobtype,xq_url)\n",
    "        rows.append(company_row)\n",
    "    print(\"已抓取第%d页的内容！\" % num)\n",
    "    \n",
    "with open('zhaoping.csv','w',encoding=\"utf-8-sig\",newline=\"\") as csvfile:\n",
    "    write = csv.writer(csvfile)\n",
    "    header = (\"公司名称\",\"工作地点\",\"工资范围\",\"在职人数\",\"工作年限\",\"学历\",\"是否全职\",\"公司类型\",\"详细内容地址\")\n",
    "    write.writerow(header)\n",
    "    for company_info in rows:\n",
    "        write.writerow(company_info)\n",
    "print(\"已抓取完毕，且已成功写入到csv文件当中！\")"
   ]
  },
  {
   "cell_type": "code",
   "execution_count": null,
   "metadata": {},
   "outputs": [],
   "source": []
  }
 ],
 "metadata": {
  "kernelspec": {
   "display_name": "Python 3",
   "language": "python",
   "name": "python3"
  },
  "language_info": {
   "codemirror_mode": {
    "name": "ipython",
    "version": 3
   },
   "file_extension": ".py",
   "mimetype": "text/x-python",
   "name": "python",
   "nbconvert_exporter": "python",
   "pygments_lexer": "ipython3",
   "version": "3.6.3"
  }
 },
 "nbformat": 4,
 "nbformat_minor": 2
}
